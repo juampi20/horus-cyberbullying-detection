{
 "cells": [
  {
   "metadata": {
    "ExecuteTime": {
     "end_time": "2024-05-18T00:27:58.543436Z",
     "start_time": "2024-05-18T00:27:52.932103Z"
    }
   },
   "cell_type": "code",
   "source": "!pip install --quiet xgboost tqdm",
   "id": "9b98b32d275e8a6d",
   "outputs": [],
   "execution_count": 2
  },
  {
   "metadata": {
    "ExecuteTime": {
     "end_time": "2024-05-18T15:55:42.785844Z",
     "start_time": "2024-05-18T15:55:38.286596Z"
    }
   },
   "cell_type": "code",
   "source": [
    "# Saving objects\n",
    "import joblib\n",
    "# Data handlig & Exploratory Data Analysis (EDA):\n",
    "import pandas as pd\n",
    "from sklearn.ensemble import GradientBoostingClassifier\n",
    "from sklearn.ensemble import RandomForestClassifier\n",
    "# Metrics\n",
    "from sklearn.feature_extraction.text import TfidfVectorizer\n",
    "from sklearn.metrics import accuracy_score, precision_score, recall_score, f1_score\n",
    "# Machine learning\n",
    "from sklearn.linear_model import LogisticRegression\n",
    "from sklearn.model_selection import train_test_split\n",
    "from sklearn.neighbors import KNeighborsClassifier\n",
    "from sklearn.neural_network import MLPClassifier\n",
    "from sklearn.pipeline import Pipeline\n",
    "from sklearn.svm import LinearSVC\n",
    "from sklearn.svm import SVC\n",
    "from sklearn.tree import DecisionTreeClassifier\n",
    "from xgboost import XGBClassifier"
   ],
   "id": "b8de7fb4d02d44ad",
   "outputs": [],
   "execution_count": 1
  },
  {
   "cell_type": "code",
   "id": "initial_id",
   "metadata": {
    "collapsed": true,
    "ExecuteTime": {
     "end_time": "2024-05-18T15:55:43.004425Z",
     "start_time": "2024-05-18T15:55:42.785844Z"
    }
   },
   "source": [
    "df = pd.read_csv('../data/cyberbullying_preprocessed.csv')\n",
    "# data = [tuple(x) for x in df.values]\n",
    "print('Número de datos cargados: {num}'.format(num=len(df)))"
   ],
   "outputs": [
    {
     "name": "stdout",
     "output_type": "stream",
     "text": [
      "Número de datos cargados: 80909\n"
     ]
    }
   ],
   "execution_count": 2
  },
  {
   "metadata": {
    "ExecuteTime": {
     "end_time": "2024-05-18T15:55:43.020854Z",
     "start_time": "2024-05-18T15:55:43.004425Z"
    }
   },
   "cell_type": "code",
   "source": [
    "# Divido los datos en dos listas \n",
    "#     X: los mensajes de texto\n",
    "#     y: las etiquetas\n",
    "\n",
    "X = df['text_preprocessed']\n",
    "y = df['label'] \n",
    "\n",
    "pd.DataFrame({'X': X, 'y': y}).head()"
   ],
   "id": "4ad0f36c6a52e5d9",
   "outputs": [
    {
     "data": {
      "text/plain": [
       "                                                   X  y\n",
       "0                             word food crapilicious  0\n",
       "1                                              white  0\n",
       "2                    classy whore red velvet cupcake  0\n",
       "3          meh thank head concern angry dude twitter  0\n",
       "4  isis account pretend kurdish account like isla...  0"
      ],
      "text/html": [
       "<div>\n",
       "<style scoped>\n",
       "    .dataframe tbody tr th:only-of-type {\n",
       "        vertical-align: middle;\n",
       "    }\n",
       "\n",
       "    .dataframe tbody tr th {\n",
       "        vertical-align: top;\n",
       "    }\n",
       "\n",
       "    .dataframe thead th {\n",
       "        text-align: right;\n",
       "    }\n",
       "</style>\n",
       "<table border=\"1\" class=\"dataframe\">\n",
       "  <thead>\n",
       "    <tr style=\"text-align: right;\">\n",
       "      <th></th>\n",
       "      <th>X</th>\n",
       "      <th>y</th>\n",
       "    </tr>\n",
       "  </thead>\n",
       "  <tbody>\n",
       "    <tr>\n",
       "      <th>0</th>\n",
       "      <td>word food crapilicious</td>\n",
       "      <td>0</td>\n",
       "    </tr>\n",
       "    <tr>\n",
       "      <th>1</th>\n",
       "      <td>white</td>\n",
       "      <td>0</td>\n",
       "    </tr>\n",
       "    <tr>\n",
       "      <th>2</th>\n",
       "      <td>classy whore red velvet cupcake</td>\n",
       "      <td>0</td>\n",
       "    </tr>\n",
       "    <tr>\n",
       "      <th>3</th>\n",
       "      <td>meh thank head concern angry dude twitter</td>\n",
       "      <td>0</td>\n",
       "    </tr>\n",
       "    <tr>\n",
       "      <th>4</th>\n",
       "      <td>isis account pretend kurdish account like isla...</td>\n",
       "      <td>0</td>\n",
       "    </tr>\n",
       "  </tbody>\n",
       "</table>\n",
       "</div>"
      ]
     },
     "execution_count": 3,
     "metadata": {},
     "output_type": "execute_result"
    }
   ],
   "execution_count": 3
  },
  {
   "metadata": {},
   "cell_type": "markdown",
   "source": [
    "# Dividimos los datos en dos conjuntos: entrenamiento y test\n",
    "- El conjunto de entrenamiento se utiliza para ajustar el modelo\n",
    "- El conjunto de test se utiliza para evaluar el modelo\n",
    "- La proporción de los datos que se utilizan para el test es del 20%\n",
    "- La semilla aleatoria se fija en 0 para que los resultados sean reproducibles\n",
    "- Se imprime el número de mensajes que se utilizarán para el entrenamiento y el test"
   ],
   "id": "a8dce84bd2c1f3c1"
  },
  {
   "metadata": {
    "ExecuteTime": {
     "end_time": "2024-05-18T15:55:43.054607Z",
     "start_time": "2024-05-18T15:55:43.020854Z"
    }
   },
   "cell_type": "code",
   "source": [
    "X_train, X_test, y_train, y_test = train_test_split(X, y, test_size=0.2, random_state=1, stratify=y)\n",
    "\n",
    "print('Número de Mensajes para el entrenamiento: {num}'.format(num=X_train.shape[0]))\n",
    "print('Número de Mensajes para el test: {num}'.format(num=X_test.shape[0]))\n",
    "\n",
    "pd.DataFrame({\n",
    "    'X_train': X_train[:5].tolist(),\n",
    "    'y_train': y_train[:5].tolist(),\n",
    "    'X_test': X_test[:5].tolist(),\n",
    "    'y_test': y_test[:5].tolist()\n",
    "}).head()"
   ],
   "id": "3ef97e0feefa66e2",
   "outputs": [
    {
     "name": "stdout",
     "output_type": "stream",
     "text": [
      "Número de Mensajes para el entrenamiento: 64727\n",
      "Número de Mensajes para el test: 16182\n"
     ]
    },
    {
     "data": {
      "text/plain": [
       "                                             X_train  y_train  \\\n",
       "0  love zombie movie someday yes model little bit...        0   \n",
       "1  remove liar racist confidence learn racism kno...        1   \n",
       "2  cheap meat black eat lip black canadian whore ...        1   \n",
       "3           damn evil minute ipa beckon fridge right        1   \n",
       "4  like patti labelle sing go arsenio damn song s...        0   \n",
       "\n",
       "                                              X_test  y_test  \n",
       "0  human race stop gay retard rape insult joke pl...       1  \n",
       "1       woman lack require woman witness replace man       1  \n",
       "2                                         definantly       0  \n",
       "3                               oooh sucks ibuprofin       1  \n",
       "4                                             matter       0  "
      ],
      "text/html": [
       "<div>\n",
       "<style scoped>\n",
       "    .dataframe tbody tr th:only-of-type {\n",
       "        vertical-align: middle;\n",
       "    }\n",
       "\n",
       "    .dataframe tbody tr th {\n",
       "        vertical-align: top;\n",
       "    }\n",
       "\n",
       "    .dataframe thead th {\n",
       "        text-align: right;\n",
       "    }\n",
       "</style>\n",
       "<table border=\"1\" class=\"dataframe\">\n",
       "  <thead>\n",
       "    <tr style=\"text-align: right;\">\n",
       "      <th></th>\n",
       "      <th>X_train</th>\n",
       "      <th>y_train</th>\n",
       "      <th>X_test</th>\n",
       "      <th>y_test</th>\n",
       "    </tr>\n",
       "  </thead>\n",
       "  <tbody>\n",
       "    <tr>\n",
       "      <th>0</th>\n",
       "      <td>love zombie movie someday yes model little bit...</td>\n",
       "      <td>0</td>\n",
       "      <td>human race stop gay retard rape insult joke pl...</td>\n",
       "      <td>1</td>\n",
       "    </tr>\n",
       "    <tr>\n",
       "      <th>1</th>\n",
       "      <td>remove liar racist confidence learn racism kno...</td>\n",
       "      <td>1</td>\n",
       "      <td>woman lack require woman witness replace man</td>\n",
       "      <td>1</td>\n",
       "    </tr>\n",
       "    <tr>\n",
       "      <th>2</th>\n",
       "      <td>cheap meat black eat lip black canadian whore ...</td>\n",
       "      <td>1</td>\n",
       "      <td>definantly</td>\n",
       "      <td>0</td>\n",
       "    </tr>\n",
       "    <tr>\n",
       "      <th>3</th>\n",
       "      <td>damn evil minute ipa beckon fridge right</td>\n",
       "      <td>1</td>\n",
       "      <td>oooh sucks ibuprofin</td>\n",
       "      <td>1</td>\n",
       "    </tr>\n",
       "    <tr>\n",
       "      <th>4</th>\n",
       "      <td>like patti labelle sing go arsenio damn song s...</td>\n",
       "      <td>0</td>\n",
       "      <td>matter</td>\n",
       "      <td>0</td>\n",
       "    </tr>\n",
       "  </tbody>\n",
       "</table>\n",
       "</div>"
      ]
     },
     "execution_count": 4,
     "metadata": {},
     "output_type": "execute_result"
    }
   ],
   "execution_count": 4
  },
  {
   "metadata": {},
   "cell_type": "markdown",
   "source": [
    "# Modelos de Machine Learning para entrenar.\n",
    "- Regresión Logística:\n",
    "- K-Nearest Neighbors\n",
    "- Decision Tree\n",
    "- Support Vector Machine (Linear Kernel)\n",
    "- Support Vector Machine (RBF Kernel)\n",
    "- Neural Network\n",
    "- Random Forest\n",
    "- Gradient Boosting\n",
    "- XGBoost\n"
   ],
   "id": "6c01b733e4009ed7"
  },
  {
   "metadata": {
    "ExecuteTime": {
     "end_time": "2024-05-18T17:50:25.718508Z",
     "start_time": "2024-05-18T17:50:25.711398Z"
    }
   },
   "cell_type": "code",
   "source": [
    "from sklearn.metrics import accuracy_score, precision_score, recall_score, f1_score\n",
    "\n",
    "\n",
    "def evaluate(actual, predicted, model_name):\n",
    "    PrecisionScore = precision_score(actual, predicted, pos_label=1)\n",
    "    RecallScore = recall_score(actual, predicted, pos_label=1)\n",
    "    F1_score = f1_score(actual, predicted, pos_label=1)\n",
    "    Accuracy = accuracy_score(actual, predicted)\n",
    "\n",
    "    return {'Model': model_name,\n",
    "            'Precision': PrecisionScore,\n",
    "            'Recall': RecallScore,\n",
    "            'F1': F1_score,\n",
    "            'Accuracy': Accuracy}\n",
    "\n",
    "\n",
    "models = {#'Logistic Regression': LogisticRegression(solver='lbfgs', multi_class='multinomial', max_iter=1000),\n",
    "          #'K-Nearest Neighbors': KNeighborsClassifier(),\n",
    "          #'Decision Tree': DecisionTreeClassifier(),\n",
    "          'Support Vector Machine (Linear Kernel)': SVC(kernel='linear', probability=True),\n",
    "          'Support Vector Machine (RBF Kernel)': SVC(kernel='rbf', probability=True),\n",
    "          #'Random Forest': RandomForestClassifier(random_state=42),\n",
    "          #'Gradient Boosting': GradientBoostingClassifier(),\n",
    "          #'XGBoost': XGBClassifier(),\n",
    "          #'Neural Network': MLPClassifier(hidden_layer_sizes=(150,100,50), activation='relu', solver='adam', max_iter=300, random_state=1),\n",
    "          }"
   ],
   "id": "e2656ccd94d1a86",
   "outputs": [],
   "execution_count": 10
  },
  {
   "metadata": {
    "ExecuteTime": {
     "end_time": "2024-05-18T18:50:31.199953Z",
     "start_time": "2024-05-18T17:50:25.718508Z"
    }
   },
   "cell_type": "code",
   "source": [
    "from tqdm import tqdm\n",
    "\n",
    "try:\n",
    "    models_results = pd.read_csv('../data/models_results.csv')\n",
    "except FileNotFoundError:\n",
    "    models_results = pd.DataFrame(columns=['Model', 'Precision', 'Recall', 'F1', 'Accuracy'])\n",
    "\n",
    "for model_name, model in tqdm(models.items(), desc=\"Entrenando modelos\", unit=\"modelo\"):\n",
    "    # 1. Creamos un pipeline que vectoriza los datos y entrena el modelo.\n",
    "    pipeline = Pipeline([\n",
    "        ('tfidf', TfidfVectorizer()),\n",
    "        ('classify', model)\n",
    "    ])\n",
    "\n",
    "    # 2. Ajustamos el modelo\n",
    "    pipeline.fit(X_train, y_train)\n",
    "\n",
    "    # 3. Predecimos los datos de test\n",
    "    y_pred = pipeline.predict(X_test)\n",
    "\n",
    "    # 4. Evaluamos el modelo\n",
    "    result = evaluate(y_test, y_pred, model_name)\n",
    "    \n",
    "    # 5. Guardamos los resultados\n",
    "    if model_name in models_results['Model'].values:\n",
    "        models_results.loc[models_results['Model'] == model_name, ['Precision', 'Recall', 'F1', 'Accuracy']] = result['Precision'], result['Recall'], result['F1'], result['Accuracy']\n",
    "    else:\n",
    "        models_results = models_results._append(result, ignore_index=True)\n",
    "\n",
    "    # 6. Guardamos el modelo\n",
    "    joblib.dump(pipeline, f'../models/{model_name.lower().replace(\" \", \"_\")}.pkl')\n",
    "\n",
    "# Guardamos los resultados\n",
    "models_results.to_csv('../data/models_results.csv', index=False)\n",
    "print('Modelos entrenados y guardados.')"
   ],
   "id": "7d365998280754ef",
   "outputs": [
    {
     "name": "stderr",
     "output_type": "stream",
     "text": [
      "Entrenando modelos: 100%|██████████| 2/2 [1:00:05<00:00, 1802.73s/modelo]"
     ]
    },
    {
     "name": "stdout",
     "output_type": "stream",
     "text": [
      "Modelos entrenados y guardados.\n"
     ]
    },
    {
     "name": "stderr",
     "output_type": "stream",
     "text": [
      "\n"
     ]
    }
   ],
   "execution_count": 11
  },
  {
   "metadata": {},
   "cell_type": "markdown",
   "source": [
    "> The F1-Score is a metric that considers both precision and recall, making it a good overall performance measure, especially in cases where there is an imbalance between classes.\n",
    "https://penscola.medium.com/end-to-end-machine-learning-project-using-fastapi-b81e2fe150d3"
   ],
   "id": "3339be38d1bb042e"
  },
  {
   "metadata": {
    "ExecuteTime": {
     "end_time": "2024-05-18T21:19:58.161997Z",
     "start_time": "2024-05-18T21:19:58.152836Z"
    }
   },
   "cell_type": "code",
   "source": [
    "models_results.sort_values(by=['F1'], ascending=False, inplace=True, ignore_index=True)\n",
    "models_results"
   ],
   "id": "e64f792dc45db67d",
   "outputs": [
    {
     "data": {
      "text/plain": [
       "                                    Model  Precision    Recall        F1  \\\n",
       "0                           Random Forest   0.839313  0.826818  0.833019   \n",
       "1     Support Vector Machine (RBF Kernel)   0.848239  0.804942  0.826024   \n",
       "2                          Neural Network   0.801930  0.841807  0.821384   \n",
       "3                     Logistic Regression   0.839142  0.792485  0.815147   \n",
       "4  Support Vector Machine (Linear Kernel)   0.853941  0.775673  0.812928   \n",
       "5                           Decision Tree   0.825427  0.798258  0.811615   \n",
       "6                                 XGBoost   0.908856  0.712984  0.799092   \n",
       "7                       Gradient Boosting   0.912814  0.683917  0.781959   \n",
       "8                     K-Nearest Neighbors   0.773912  0.700628  0.735449   \n",
       "\n",
       "   Accuracy  \n",
       "0  0.797738  \n",
       "1  0.793103  \n",
       "2  0.776604  \n",
       "3  0.780682  \n",
       "4  0.782165  \n",
       "5  0.773885  \n",
       "6  0.781238  \n",
       "7  0.767272  \n",
       "8  0.692436  "
      ],
      "text/html": [
       "<div>\n",
       "<style scoped>\n",
       "    .dataframe tbody tr th:only-of-type {\n",
       "        vertical-align: middle;\n",
       "    }\n",
       "\n",
       "    .dataframe tbody tr th {\n",
       "        vertical-align: top;\n",
       "    }\n",
       "\n",
       "    .dataframe thead th {\n",
       "        text-align: right;\n",
       "    }\n",
       "</style>\n",
       "<table border=\"1\" class=\"dataframe\">\n",
       "  <thead>\n",
       "    <tr style=\"text-align: right;\">\n",
       "      <th></th>\n",
       "      <th>Model</th>\n",
       "      <th>Precision</th>\n",
       "      <th>Recall</th>\n",
       "      <th>F1</th>\n",
       "      <th>Accuracy</th>\n",
       "    </tr>\n",
       "  </thead>\n",
       "  <tbody>\n",
       "    <tr>\n",
       "      <th>0</th>\n",
       "      <td>Random Forest</td>\n",
       "      <td>0.839313</td>\n",
       "      <td>0.826818</td>\n",
       "      <td>0.833019</td>\n",
       "      <td>0.797738</td>\n",
       "    </tr>\n",
       "    <tr>\n",
       "      <th>1</th>\n",
       "      <td>Support Vector Machine (RBF Kernel)</td>\n",
       "      <td>0.848239</td>\n",
       "      <td>0.804942</td>\n",
       "      <td>0.826024</td>\n",
       "      <td>0.793103</td>\n",
       "    </tr>\n",
       "    <tr>\n",
       "      <th>2</th>\n",
       "      <td>Neural Network</td>\n",
       "      <td>0.801930</td>\n",
       "      <td>0.841807</td>\n",
       "      <td>0.821384</td>\n",
       "      <td>0.776604</td>\n",
       "    </tr>\n",
       "    <tr>\n",
       "      <th>3</th>\n",
       "      <td>Logistic Regression</td>\n",
       "      <td>0.839142</td>\n",
       "      <td>0.792485</td>\n",
       "      <td>0.815147</td>\n",
       "      <td>0.780682</td>\n",
       "    </tr>\n",
       "    <tr>\n",
       "      <th>4</th>\n",
       "      <td>Support Vector Machine (Linear Kernel)</td>\n",
       "      <td>0.853941</td>\n",
       "      <td>0.775673</td>\n",
       "      <td>0.812928</td>\n",
       "      <td>0.782165</td>\n",
       "    </tr>\n",
       "    <tr>\n",
       "      <th>5</th>\n",
       "      <td>Decision Tree</td>\n",
       "      <td>0.825427</td>\n",
       "      <td>0.798258</td>\n",
       "      <td>0.811615</td>\n",
       "      <td>0.773885</td>\n",
       "    </tr>\n",
       "    <tr>\n",
       "      <th>6</th>\n",
       "      <td>XGBoost</td>\n",
       "      <td>0.908856</td>\n",
       "      <td>0.712984</td>\n",
       "      <td>0.799092</td>\n",
       "      <td>0.781238</td>\n",
       "    </tr>\n",
       "    <tr>\n",
       "      <th>7</th>\n",
       "      <td>Gradient Boosting</td>\n",
       "      <td>0.912814</td>\n",
       "      <td>0.683917</td>\n",
       "      <td>0.781959</td>\n",
       "      <td>0.767272</td>\n",
       "    </tr>\n",
       "    <tr>\n",
       "      <th>8</th>\n",
       "      <td>K-Nearest Neighbors</td>\n",
       "      <td>0.773912</td>\n",
       "      <td>0.700628</td>\n",
       "      <td>0.735449</td>\n",
       "      <td>0.692436</td>\n",
       "    </tr>\n",
       "  </tbody>\n",
       "</table>\n",
       "</div>"
      ]
     },
     "execution_count": 14,
     "metadata": {},
     "output_type": "execute_result"
    }
   ],
   "execution_count": 14
  },
  {
   "metadata": {
    "ExecuteTime": {
     "end_time": "2024-05-18T21:19:58.353674Z",
     "start_time": "2024-05-18T21:19:58.163004Z"
    }
   },
   "cell_type": "code",
   "source": [
    "# Evaluamos los modelos con un mensaje de prueba\n",
    "predictions_df = pd.DataFrame(columns=['Model', 'Prediction', 'Score'])\n",
    "for model_name in models.keys():\n",
    "    model = joblib.load(f'../models/{model_name.lower().replace(\" \", \"_\")}.pkl')\n",
    "    prediction = model.predict(['I hate you, nigga'])\n",
    "    prediction = 'Bullying' if prediction[0] == 1 else 'Not Bullying'\n",
    "    score = model.predict_proba(['I hate you'])[0][1]\n",
    "    # Indexamos el resultado en un Dataframe para visualizarlo al finalizar el ciclo\n",
    "    predictions_df = predictions_df._append({'Model': model_name, 'Prediction': prediction, 'Score': score}, ignore_index=True)\n",
    "predictions_df"
   ],
   "id": "c1f43b053ddb6bb3",
   "outputs": [
    {
     "name": "stderr",
     "output_type": "stream",
     "text": [
      "C:\\Users\\juamp\\AppData\\Local\\Temp\\ipykernel_3428\\568659536.py:9: FutureWarning: The behavior of DataFrame concatenation with empty or all-NA entries is deprecated. In a future version, this will no longer exclude empty or all-NA columns when determining the result dtypes. To retain the old behavior, exclude the relevant entries before the concat operation.\n",
      "  predictions_df = predictions_df._append({'Model': model_name, 'Prediction': prediction, 'Score': score}, ignore_index=True)\n"
     ]
    },
    {
     "data": {
      "text/plain": [
       "                                    Model Prediction     Score\n",
       "0  Support Vector Machine (Linear Kernel)   Bullying  0.236725\n",
       "1     Support Vector Machine (RBF Kernel)   Bullying  0.288884"
      ],
      "text/html": [
       "<div>\n",
       "<style scoped>\n",
       "    .dataframe tbody tr th:only-of-type {\n",
       "        vertical-align: middle;\n",
       "    }\n",
       "\n",
       "    .dataframe tbody tr th {\n",
       "        vertical-align: top;\n",
       "    }\n",
       "\n",
       "    .dataframe thead th {\n",
       "        text-align: right;\n",
       "    }\n",
       "</style>\n",
       "<table border=\"1\" class=\"dataframe\">\n",
       "  <thead>\n",
       "    <tr style=\"text-align: right;\">\n",
       "      <th></th>\n",
       "      <th>Model</th>\n",
       "      <th>Prediction</th>\n",
       "      <th>Score</th>\n",
       "    </tr>\n",
       "  </thead>\n",
       "  <tbody>\n",
       "    <tr>\n",
       "      <th>0</th>\n",
       "      <td>Support Vector Machine (Linear Kernel)</td>\n",
       "      <td>Bullying</td>\n",
       "      <td>0.236725</td>\n",
       "    </tr>\n",
       "    <tr>\n",
       "      <th>1</th>\n",
       "      <td>Support Vector Machine (RBF Kernel)</td>\n",
       "      <td>Bullying</td>\n",
       "      <td>0.288884</td>\n",
       "    </tr>\n",
       "  </tbody>\n",
       "</table>\n",
       "</div>"
      ]
     },
     "execution_count": 15,
     "metadata": {},
     "output_type": "execute_result"
    }
   ],
   "execution_count": 15
  }
 ],
 "metadata": {
  "kernelspec": {
   "display_name": "Python 3",
   "language": "python",
   "name": "python3"
  },
  "language_info": {
   "codemirror_mode": {
    "name": "ipython",
    "version": 2
   },
   "file_extension": ".py",
   "mimetype": "text/x-python",
   "name": "python",
   "nbconvert_exporter": "python",
   "pygments_lexer": "ipython2",
   "version": "2.7.6"
  }
 },
 "nbformat": 4,
 "nbformat_minor": 5
}
