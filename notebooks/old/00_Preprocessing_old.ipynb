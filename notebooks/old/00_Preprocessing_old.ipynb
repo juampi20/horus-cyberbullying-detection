{
 "cells": [
  {
   "cell_type": "code",
   "metadata": {
    "ExecuteTime": {
     "end_time": "2024-04-25T00:55:55.248351Z",
     "start_time": "2024-04-25T00:55:50.455240Z"
    }
   },
   "source": [
    "!pip3 install pandas spacy tqdm"
   ],
   "outputs": [
    {
     "name": "stdout",
     "output_type": "stream",
     "text": [
      "Defaulting to user installation because normal site-packages is not writeable\n",
      "Requirement already satisfied: pandas in c:\\tools\\anaconda3\\lib\\site-packages (2.1.4)\n",
      "Requirement already satisfied: spacy in c:\\users\\juamp\\appdata\\roaming\\python\\python311\\site-packages (3.7.4)\n",
      "Requirement already satisfied: tqdm in c:\\tools\\anaconda3\\lib\\site-packages (4.65.0)\n",
      "Requirement already satisfied: numpy<2,>=1.23.2 in c:\\tools\\anaconda3\\lib\\site-packages (from pandas) (1.26.4)\n",
      "Requirement already satisfied: python-dateutil>=2.8.2 in c:\\tools\\anaconda3\\lib\\site-packages (from pandas) (2.8.2)\n",
      "Requirement already satisfied: pytz>=2020.1 in c:\\tools\\anaconda3\\lib\\site-packages (from pandas) (2023.3.post1)\n",
      "Requirement already satisfied: tzdata>=2022.1 in c:\\tools\\anaconda3\\lib\\site-packages (from pandas) (2023.3)\n",
      "Requirement already satisfied: spacy-legacy<3.1.0,>=3.0.11 in c:\\users\\juamp\\appdata\\roaming\\python\\python311\\site-packages (from spacy) (3.0.12)\n",
      "Requirement already satisfied: spacy-loggers<2.0.0,>=1.0.0 in c:\\users\\juamp\\appdata\\roaming\\python\\python311\\site-packages (from spacy) (1.0.5)\n",
      "Requirement already satisfied: murmurhash<1.1.0,>=0.28.0 in c:\\users\\juamp\\appdata\\roaming\\python\\python311\\site-packages (from spacy) (1.0.10)\n",
      "Requirement already satisfied: cymem<2.1.0,>=2.0.2 in c:\\users\\juamp\\appdata\\roaming\\python\\python311\\site-packages (from spacy) (2.0.8)\n",
      "Requirement already satisfied: preshed<3.1.0,>=3.0.2 in c:\\users\\juamp\\appdata\\roaming\\python\\python311\\site-packages (from spacy) (3.0.9)\n",
      "Requirement already satisfied: thinc<8.3.0,>=8.2.2 in c:\\users\\juamp\\appdata\\roaming\\python\\python311\\site-packages (from spacy) (8.2.3)\n",
      "Requirement already satisfied: wasabi<1.2.0,>=0.9.1 in c:\\users\\juamp\\appdata\\roaming\\python\\python311\\site-packages (from spacy) (1.1.2)\n",
      "Requirement already satisfied: srsly<3.0.0,>=2.4.3 in c:\\users\\juamp\\appdata\\roaming\\python\\python311\\site-packages (from spacy) (2.4.8)\n",
      "Requirement already satisfied: catalogue<2.1.0,>=2.0.6 in c:\\users\\juamp\\appdata\\roaming\\python\\python311\\site-packages (from spacy) (2.0.10)\n",
      "Requirement already satisfied: weasel<0.4.0,>=0.1.0 in c:\\users\\juamp\\appdata\\roaming\\python\\python311\\site-packages (from spacy) (0.3.4)\n",
      "Requirement already satisfied: typer<0.10.0,>=0.3.0 in c:\\users\\juamp\\appdata\\roaming\\python\\python311\\site-packages (from spacy) (0.9.4)\n",
      "Requirement already satisfied: smart-open<7.0.0,>=5.2.1 in c:\\tools\\anaconda3\\lib\\site-packages (from spacy) (5.2.1)\n",
      "Requirement already satisfied: requests<3.0.0,>=2.13.0 in c:\\tools\\anaconda3\\lib\\site-packages (from spacy) (2.31.0)\n",
      "Requirement already satisfied: pydantic!=1.8,!=1.8.1,<3.0.0,>=1.7.4 in c:\\tools\\anaconda3\\lib\\site-packages (from spacy) (1.10.12)\n",
      "Requirement already satisfied: jinja2 in c:\\tools\\anaconda3\\lib\\site-packages (from spacy) (3.1.3)\n",
      "Requirement already satisfied: setuptools in c:\\tools\\anaconda3\\lib\\site-packages (from spacy) (68.2.2)\n",
      "Requirement already satisfied: packaging>=20.0 in c:\\tools\\anaconda3\\lib\\site-packages (from spacy) (23.1)\n",
      "Requirement already satisfied: langcodes<4.0.0,>=3.2.0 in c:\\users\\juamp\\appdata\\roaming\\python\\python311\\site-packages (from spacy) (3.3.0)\n",
      "Requirement already satisfied: colorama in c:\\tools\\anaconda3\\lib\\site-packages (from tqdm) (0.4.6)\n",
      "Requirement already satisfied: typing-extensions>=4.2.0 in c:\\tools\\anaconda3\\lib\\site-packages (from pydantic!=1.8,!=1.8.1,<3.0.0,>=1.7.4->spacy) (4.9.0)\n",
      "Requirement already satisfied: six>=1.5 in c:\\tools\\anaconda3\\lib\\site-packages (from python-dateutil>=2.8.2->pandas) (1.16.0)\n",
      "Requirement already satisfied: charset-normalizer<4,>=2 in c:\\tools\\anaconda3\\lib\\site-packages (from requests<3.0.0,>=2.13.0->spacy) (2.0.4)\n",
      "Requirement already satisfied: idna<4,>=2.5 in c:\\tools\\anaconda3\\lib\\site-packages (from requests<3.0.0,>=2.13.0->spacy) (3.4)\n",
      "Requirement already satisfied: urllib3<3,>=1.21.1 in c:\\tools\\anaconda3\\lib\\site-packages (from requests<3.0.0,>=2.13.0->spacy) (2.0.7)\n",
      "Requirement already satisfied: certifi>=2017.4.17 in c:\\tools\\anaconda3\\lib\\site-packages (from requests<3.0.0,>=2.13.0->spacy) (2024.2.2)\n",
      "Requirement already satisfied: blis<0.8.0,>=0.7.8 in c:\\users\\juamp\\appdata\\roaming\\python\\python311\\site-packages (from thinc<8.3.0,>=8.2.2->spacy) (0.7.11)\n",
      "Requirement already satisfied: confection<1.0.0,>=0.0.1 in c:\\users\\juamp\\appdata\\roaming\\python\\python311\\site-packages (from thinc<8.3.0,>=8.2.2->spacy) (0.1.4)\n",
      "Requirement already satisfied: click<9.0.0,>=7.1.1 in c:\\tools\\anaconda3\\lib\\site-packages (from typer<0.10.0,>=0.3.0->spacy) (8.1.7)\n",
      "Requirement already satisfied: cloudpathlib<0.17.0,>=0.7.0 in c:\\users\\juamp\\appdata\\roaming\\python\\python311\\site-packages (from weasel<0.4.0,>=0.1.0->spacy) (0.16.0)\n",
      "Requirement already satisfied: MarkupSafe>=2.0 in c:\\tools\\anaconda3\\lib\\site-packages (from jinja2->spacy) (2.1.3)\n"
     ]
    }
   ],
   "execution_count": 1
  },
  {
   "metadata": {
    "ExecuteTime": {
     "end_time": "2024-04-25T00:56:03.906791Z",
     "start_time": "2024-04-25T00:55:55.250359Z"
    }
   },
   "cell_type": "code",
   "source": "!python -m spacy download en_core_web_sm",
   "outputs": [
    {
     "name": "stdout",
     "output_type": "stream",
     "text": [
      "Defaulting to user installation because normal site-packages is not writeable\n",
      "Collecting en-core-web-sm==3.7.1\n",
      "  Downloading https://github.com/explosion/spacy-models/releases/download/en_core_web_sm-3.7.1/en_core_web_sm-3.7.1-py3-none-any.whl (12.8 MB)\n",
      "     ---------------------------------------- 0.0/12.8 MB ? eta -:--:--\n",
      "     ---------------------------------------- 0.0/12.8 MB ? eta -:--:--\n",
      "     --------------------------------------- 0.1/12.8 MB 919.0 kB/s eta 0:00:14\n",
      "     - -------------------------------------- 0.4/12.8 MB 3.2 MB/s eta 0:00:04\n",
      "     ----- ---------------------------------- 1.7/12.8 MB 9.8 MB/s eta 0:00:02\n",
      "     ------------ --------------------------- 4.1/12.8 MB 18.5 MB/s eta 0:00:01\n",
      "     ------------------ --------------------- 5.8/12.8 MB 21.6 MB/s eta 0:00:01\n",
      "     ----------------------- ---------------- 7.5/12.8 MB 24.0 MB/s eta 0:00:01\n",
      "     ---------------------------- ----------- 9.2/12.8 MB 25.7 MB/s eta 0:00:01\n",
      "     --------------------------------- ----- 11.0/12.8 MB 38.6 MB/s eta 0:00:01\n",
      "     --------------------------------------  12.7/12.8 MB 38.5 MB/s eta 0:00:01\n",
      "     --------------------------------------  12.8/12.8 MB 38.5 MB/s eta 0:00:01\n",
      "     --------------------------------------- 12.8/12.8 MB 31.1 MB/s eta 0:00:00\n",
      "Requirement already satisfied: spacy<3.8.0,>=3.7.2 in c:\\users\\juamp\\appdata\\roaming\\python\\python311\\site-packages (from en-core-web-sm==3.7.1) (3.7.4)\n",
      "Requirement already satisfied: spacy-legacy<3.1.0,>=3.0.11 in c:\\users\\juamp\\appdata\\roaming\\python\\python311\\site-packages (from spacy<3.8.0,>=3.7.2->en-core-web-sm==3.7.1) (3.0.12)\n",
      "Requirement already satisfied: spacy-loggers<2.0.0,>=1.0.0 in c:\\users\\juamp\\appdata\\roaming\\python\\python311\\site-packages (from spacy<3.8.0,>=3.7.2->en-core-web-sm==3.7.1) (1.0.5)\n",
      "Requirement already satisfied: murmurhash<1.1.0,>=0.28.0 in c:\\users\\juamp\\appdata\\roaming\\python\\python311\\site-packages (from spacy<3.8.0,>=3.7.2->en-core-web-sm==3.7.1) (1.0.10)\n",
      "Requirement already satisfied: cymem<2.1.0,>=2.0.2 in c:\\users\\juamp\\appdata\\roaming\\python\\python311\\site-packages (from spacy<3.8.0,>=3.7.2->en-core-web-sm==3.7.1) (2.0.8)\n",
      "Requirement already satisfied: preshed<3.1.0,>=3.0.2 in c:\\users\\juamp\\appdata\\roaming\\python\\python311\\site-packages (from spacy<3.8.0,>=3.7.2->en-core-web-sm==3.7.1) (3.0.9)\n",
      "Requirement already satisfied: thinc<8.3.0,>=8.2.2 in c:\\users\\juamp\\appdata\\roaming\\python\\python311\\site-packages (from spacy<3.8.0,>=3.7.2->en-core-web-sm==3.7.1) (8.2.3)\n",
      "Requirement already satisfied: wasabi<1.2.0,>=0.9.1 in c:\\users\\juamp\\appdata\\roaming\\python\\python311\\site-packages (from spacy<3.8.0,>=3.7.2->en-core-web-sm==3.7.1) (1.1.2)\n",
      "Requirement already satisfied: srsly<3.0.0,>=2.4.3 in c:\\users\\juamp\\appdata\\roaming\\python\\python311\\site-packages (from spacy<3.8.0,>=3.7.2->en-core-web-sm==3.7.1) (2.4.8)\n",
      "Requirement already satisfied: catalogue<2.1.0,>=2.0.6 in c:\\users\\juamp\\appdata\\roaming\\python\\python311\\site-packages (from spacy<3.8.0,>=3.7.2->en-core-web-sm==3.7.1) (2.0.10)\n",
      "Requirement already satisfied: weasel<0.4.0,>=0.1.0 in c:\\users\\juamp\\appdata\\roaming\\python\\python311\\site-packages (from spacy<3.8.0,>=3.7.2->en-core-web-sm==3.7.1) (0.3.4)\n",
      "Requirement already satisfied: typer<0.10.0,>=0.3.0 in c:\\users\\juamp\\appdata\\roaming\\python\\python311\\site-packages (from spacy<3.8.0,>=3.7.2->en-core-web-sm==3.7.1) (0.9.4)\n",
      "Requirement already satisfied: smart-open<7.0.0,>=5.2.1 in c:\\tools\\anaconda3\\lib\\site-packages (from spacy<3.8.0,>=3.7.2->en-core-web-sm==3.7.1) (5.2.1)\n",
      "Requirement already satisfied: tqdm<5.0.0,>=4.38.0 in c:\\tools\\anaconda3\\lib\\site-packages (from spacy<3.8.0,>=3.7.2->en-core-web-sm==3.7.1) (4.65.0)\n",
      "Requirement already satisfied: requests<3.0.0,>=2.13.0 in c:\\tools\\anaconda3\\lib\\site-packages (from spacy<3.8.0,>=3.7.2->en-core-web-sm==3.7.1) (2.31.0)\n",
      "Requirement already satisfied: pydantic!=1.8,!=1.8.1,<3.0.0,>=1.7.4 in c:\\tools\\anaconda3\\lib\\site-packages (from spacy<3.8.0,>=3.7.2->en-core-web-sm==3.7.1) (1.10.12)\n",
      "Requirement already satisfied: jinja2 in c:\\tools\\anaconda3\\lib\\site-packages (from spacy<3.8.0,>=3.7.2->en-core-web-sm==3.7.1) (3.1.3)\n",
      "Requirement already satisfied: setuptools in c:\\tools\\anaconda3\\lib\\site-packages (from spacy<3.8.0,>=3.7.2->en-core-web-sm==3.7.1) (68.2.2)\n",
      "Requirement already satisfied: packaging>=20.0 in c:\\tools\\anaconda3\\lib\\site-packages (from spacy<3.8.0,>=3.7.2->en-core-web-sm==3.7.1) (23.1)\n",
      "Requirement already satisfied: langcodes<4.0.0,>=3.2.0 in c:\\users\\juamp\\appdata\\roaming\\python\\python311\\site-packages (from spacy<3.8.0,>=3.7.2->en-core-web-sm==3.7.1) (3.3.0)\n",
      "Requirement already satisfied: numpy>=1.19.0 in c:\\tools\\anaconda3\\lib\\site-packages (from spacy<3.8.0,>=3.7.2->en-core-web-sm==3.7.1) (1.26.4)\n",
      "Requirement already satisfied: typing-extensions>=4.2.0 in c:\\tools\\anaconda3\\lib\\site-packages (from pydantic!=1.8,!=1.8.1,<3.0.0,>=1.7.4->spacy<3.8.0,>=3.7.2->en-core-web-sm==3.7.1) (4.9.0)\n",
      "Requirement already satisfied: charset-normalizer<4,>=2 in c:\\tools\\anaconda3\\lib\\site-packages (from requests<3.0.0,>=2.13.0->spacy<3.8.0,>=3.7.2->en-core-web-sm==3.7.1) (2.0.4)\n",
      "Requirement already satisfied: idna<4,>=2.5 in c:\\tools\\anaconda3\\lib\\site-packages (from requests<3.0.0,>=2.13.0->spacy<3.8.0,>=3.7.2->en-core-web-sm==3.7.1) (3.4)\n",
      "Requirement already satisfied: urllib3<3,>=1.21.1 in c:\\tools\\anaconda3\\lib\\site-packages (from requests<3.0.0,>=2.13.0->spacy<3.8.0,>=3.7.2->en-core-web-sm==3.7.1) (2.0.7)\n",
      "Requirement already satisfied: certifi>=2017.4.17 in c:\\tools\\anaconda3\\lib\\site-packages (from requests<3.0.0,>=2.13.0->spacy<3.8.0,>=3.7.2->en-core-web-sm==3.7.1) (2024.2.2)\n",
      "Requirement already satisfied: blis<0.8.0,>=0.7.8 in c:\\users\\juamp\\appdata\\roaming\\python\\python311\\site-packages (from thinc<8.3.0,>=8.2.2->spacy<3.8.0,>=3.7.2->en-core-web-sm==3.7.1) (0.7.11)\n",
      "Requirement already satisfied: confection<1.0.0,>=0.0.1 in c:\\users\\juamp\\appdata\\roaming\\python\\python311\\site-packages (from thinc<8.3.0,>=8.2.2->spacy<3.8.0,>=3.7.2->en-core-web-sm==3.7.1) (0.1.4)\n",
      "Requirement already satisfied: colorama in c:\\tools\\anaconda3\\lib\\site-packages (from tqdm<5.0.0,>=4.38.0->spacy<3.8.0,>=3.7.2->en-core-web-sm==3.7.1) (0.4.6)\n",
      "Requirement already satisfied: click<9.0.0,>=7.1.1 in c:\\tools\\anaconda3\\lib\\site-packages (from typer<0.10.0,>=0.3.0->spacy<3.8.0,>=3.7.2->en-core-web-sm==3.7.1) (8.1.7)\n",
      "Requirement already satisfied: cloudpathlib<0.17.0,>=0.7.0 in c:\\users\\juamp\\appdata\\roaming\\python\\python311\\site-packages (from weasel<0.4.0,>=0.1.0->spacy<3.8.0,>=3.7.2->en-core-web-sm==3.7.1) (0.16.0)\n",
      "Requirement already satisfied: MarkupSafe>=2.0 in c:\\tools\\anaconda3\\lib\\site-packages (from jinja2->spacy<3.8.0,>=3.7.2->en-core-web-sm==3.7.1) (2.1.3)\n",
      "\u001B[38;5;2m[+] Download and installation successful\u001B[0m\n",
      "You can now load the package via spacy.load('en_core_web_sm')\n"
     ]
    }
   ],
   "execution_count": 2
  },
  {
   "cell_type": "code",
   "metadata": {
    "ExecuteTime": {
     "end_time": "2024-04-25T00:56:12.285370Z",
     "start_time": "2024-04-25T00:56:03.907797Z"
    }
   },
   "source": [
    "!python -m spacy download es_core_news_sm"
   ],
   "outputs": [
    {
     "name": "stdout",
     "output_type": "stream",
     "text": [
      "Defaulting to user installation because normal site-packages is not writeable\n",
      "Collecting es-core-news-sm==3.7.0\n",
      "  Downloading https://github.com/explosion/spacy-models/releases/download/es_core_news_sm-3.7.0/es_core_news_sm-3.7.0-py3-none-any.whl (12.9 MB)\n",
      "     ---------------------------------------- 0.0/12.9 MB ? eta -:--:--\n",
      "     ---------------------------------------- 0.0/12.9 MB ? eta -:--:--\n",
      "     --------------------------------------- 0.1/12.9 MB 656.4 kB/s eta 0:00:20\n",
      "      --------------------------------------- 0.3/12.9 MB 2.0 MB/s eta 0:00:07\n",
      "     --- ------------------------------------ 1.1/12.9 MB 6.3 MB/s eta 0:00:02\n",
      "     ---------- ----------------------------- 3.5/12.9 MB 16.0 MB/s eta 0:00:01\n",
      "     ---------------- ----------------------- 5.3/12.9 MB 19.7 MB/s eta 0:00:01\n",
      "     --------------------- ------------------ 7.1/12.9 MB 21.5 MB/s eta 0:00:01\n",
      "     --------------------------- ------------ 8.8/12.9 MB 24.5 MB/s eta 0:00:01\n",
      "     ------------------------------- ------- 10.6/12.9 MB 38.6 MB/s eta 0:00:01\n",
      "     ------------------------------------- - 12.3/12.9 MB 38.5 MB/s eta 0:00:01\n",
      "     --------------------------------------  12.9/12.9 MB 38.5 MB/s eta 0:00:01\n",
      "     --------------------------------------- 12.9/12.9 MB 31.2 MB/s eta 0:00:00\n",
      "Requirement already satisfied: spacy<3.8.0,>=3.7.0 in c:\\users\\juamp\\appdata\\roaming\\python\\python311\\site-packages (from es-core-news-sm==3.7.0) (3.7.4)\n",
      "Requirement already satisfied: spacy-legacy<3.1.0,>=3.0.11 in c:\\users\\juamp\\appdata\\roaming\\python\\python311\\site-packages (from spacy<3.8.0,>=3.7.0->es-core-news-sm==3.7.0) (3.0.12)\n",
      "Requirement already satisfied: spacy-loggers<2.0.0,>=1.0.0 in c:\\users\\juamp\\appdata\\roaming\\python\\python311\\site-packages (from spacy<3.8.0,>=3.7.0->es-core-news-sm==3.7.0) (1.0.5)\n",
      "Requirement already satisfied: murmurhash<1.1.0,>=0.28.0 in c:\\users\\juamp\\appdata\\roaming\\python\\python311\\site-packages (from spacy<3.8.0,>=3.7.0->es-core-news-sm==3.7.0) (1.0.10)\n",
      "Requirement already satisfied: cymem<2.1.0,>=2.0.2 in c:\\users\\juamp\\appdata\\roaming\\python\\python311\\site-packages (from spacy<3.8.0,>=3.7.0->es-core-news-sm==3.7.0) (2.0.8)\n",
      "Requirement already satisfied: preshed<3.1.0,>=3.0.2 in c:\\users\\juamp\\appdata\\roaming\\python\\python311\\site-packages (from spacy<3.8.0,>=3.7.0->es-core-news-sm==3.7.0) (3.0.9)\n",
      "Requirement already satisfied: thinc<8.3.0,>=8.2.2 in c:\\users\\juamp\\appdata\\roaming\\python\\python311\\site-packages (from spacy<3.8.0,>=3.7.0->es-core-news-sm==3.7.0) (8.2.3)\n",
      "Requirement already satisfied: wasabi<1.2.0,>=0.9.1 in c:\\users\\juamp\\appdata\\roaming\\python\\python311\\site-packages (from spacy<3.8.0,>=3.7.0->es-core-news-sm==3.7.0) (1.1.2)\n",
      "Requirement already satisfied: srsly<3.0.0,>=2.4.3 in c:\\users\\juamp\\appdata\\roaming\\python\\python311\\site-packages (from spacy<3.8.0,>=3.7.0->es-core-news-sm==3.7.0) (2.4.8)\n",
      "Requirement already satisfied: catalogue<2.1.0,>=2.0.6 in c:\\users\\juamp\\appdata\\roaming\\python\\python311\\site-packages (from spacy<3.8.0,>=3.7.0->es-core-news-sm==3.7.0) (2.0.10)\n",
      "Requirement already satisfied: weasel<0.4.0,>=0.1.0 in c:\\users\\juamp\\appdata\\roaming\\python\\python311\\site-packages (from spacy<3.8.0,>=3.7.0->es-core-news-sm==3.7.0) (0.3.4)\n",
      "Requirement already satisfied: typer<0.10.0,>=0.3.0 in c:\\users\\juamp\\appdata\\roaming\\python\\python311\\site-packages (from spacy<3.8.0,>=3.7.0->es-core-news-sm==3.7.0) (0.9.4)\n",
      "Requirement already satisfied: smart-open<7.0.0,>=5.2.1 in c:\\tools\\anaconda3\\lib\\site-packages (from spacy<3.8.0,>=3.7.0->es-core-news-sm==3.7.0) (5.2.1)\n",
      "Requirement already satisfied: tqdm<5.0.0,>=4.38.0 in c:\\tools\\anaconda3\\lib\\site-packages (from spacy<3.8.0,>=3.7.0->es-core-news-sm==3.7.0) (4.65.0)\n",
      "Requirement already satisfied: requests<3.0.0,>=2.13.0 in c:\\tools\\anaconda3\\lib\\site-packages (from spacy<3.8.0,>=3.7.0->es-core-news-sm==3.7.0) (2.31.0)\n",
      "Requirement already satisfied: pydantic!=1.8,!=1.8.1,<3.0.0,>=1.7.4 in c:\\tools\\anaconda3\\lib\\site-packages (from spacy<3.8.0,>=3.7.0->es-core-news-sm==3.7.0) (1.10.12)\n",
      "Requirement already satisfied: jinja2 in c:\\tools\\anaconda3\\lib\\site-packages (from spacy<3.8.0,>=3.7.0->es-core-news-sm==3.7.0) (3.1.3)\n",
      "Requirement already satisfied: setuptools in c:\\tools\\anaconda3\\lib\\site-packages (from spacy<3.8.0,>=3.7.0->es-core-news-sm==3.7.0) (68.2.2)\n",
      "Requirement already satisfied: packaging>=20.0 in c:\\tools\\anaconda3\\lib\\site-packages (from spacy<3.8.0,>=3.7.0->es-core-news-sm==3.7.0) (23.1)\n",
      "Requirement already satisfied: langcodes<4.0.0,>=3.2.0 in c:\\users\\juamp\\appdata\\roaming\\python\\python311\\site-packages (from spacy<3.8.0,>=3.7.0->es-core-news-sm==3.7.0) (3.3.0)\n",
      "Requirement already satisfied: numpy>=1.19.0 in c:\\tools\\anaconda3\\lib\\site-packages (from spacy<3.8.0,>=3.7.0->es-core-news-sm==3.7.0) (1.26.4)\n",
      "Requirement already satisfied: typing-extensions>=4.2.0 in c:\\tools\\anaconda3\\lib\\site-packages (from pydantic!=1.8,!=1.8.1,<3.0.0,>=1.7.4->spacy<3.8.0,>=3.7.0->es-core-news-sm==3.7.0) (4.9.0)\n",
      "Requirement already satisfied: charset-normalizer<4,>=2 in c:\\tools\\anaconda3\\lib\\site-packages (from requests<3.0.0,>=2.13.0->spacy<3.8.0,>=3.7.0->es-core-news-sm==3.7.0) (2.0.4)\n",
      "Requirement already satisfied: idna<4,>=2.5 in c:\\tools\\anaconda3\\lib\\site-packages (from requests<3.0.0,>=2.13.0->spacy<3.8.0,>=3.7.0->es-core-news-sm==3.7.0) (3.4)\n",
      "Requirement already satisfied: urllib3<3,>=1.21.1 in c:\\tools\\anaconda3\\lib\\site-packages (from requests<3.0.0,>=2.13.0->spacy<3.8.0,>=3.7.0->es-core-news-sm==3.7.0) (2.0.7)\n",
      "Requirement already satisfied: certifi>=2017.4.17 in c:\\tools\\anaconda3\\lib\\site-packages (from requests<3.0.0,>=2.13.0->spacy<3.8.0,>=3.7.0->es-core-news-sm==3.7.0) (2024.2.2)\n",
      "Requirement already satisfied: blis<0.8.0,>=0.7.8 in c:\\users\\juamp\\appdata\\roaming\\python\\python311\\site-packages (from thinc<8.3.0,>=8.2.2->spacy<3.8.0,>=3.7.0->es-core-news-sm==3.7.0) (0.7.11)\n",
      "Requirement already satisfied: confection<1.0.0,>=0.0.1 in c:\\users\\juamp\\appdata\\roaming\\python\\python311\\site-packages (from thinc<8.3.0,>=8.2.2->spacy<3.8.0,>=3.7.0->es-core-news-sm==3.7.0) (0.1.4)\n",
      "Requirement already satisfied: colorama in c:\\tools\\anaconda3\\lib\\site-packages (from tqdm<5.0.0,>=4.38.0->spacy<3.8.0,>=3.7.0->es-core-news-sm==3.7.0) (0.4.6)\n",
      "Requirement already satisfied: click<9.0.0,>=7.1.1 in c:\\tools\\anaconda3\\lib\\site-packages (from typer<0.10.0,>=0.3.0->spacy<3.8.0,>=3.7.0->es-core-news-sm==3.7.0) (8.1.7)\n",
      "Requirement already satisfied: cloudpathlib<0.17.0,>=0.7.0 in c:\\users\\juamp\\appdata\\roaming\\python\\python311\\site-packages (from weasel<0.4.0,>=0.1.0->spacy<3.8.0,>=3.7.0->es-core-news-sm==3.7.0) (0.16.0)\n",
      "Requirement already satisfied: MarkupSafe>=2.0 in c:\\tools\\anaconda3\\lib\\site-packages (from jinja2->spacy<3.8.0,>=3.7.0->es-core-news-sm==3.7.0) (2.1.3)\n",
      "\u001B[38;5;2m[+] Download and installation successful\u001B[0m\n",
      "You can now load the package via spacy.load('es_core_news_sm')\n"
     ]
    }
   ],
   "execution_count": 3
  },
  {
   "metadata": {
    "ExecuteTime": {
     "end_time": "2024-04-25T04:34:22.521140Z",
     "start_time": "2024-04-25T04:34:20.533402Z"
    }
   },
   "cell_type": "code",
   "source": [
    "import re\n",
    "\n",
    "# Importar las librerías necesarias\n",
    "import pandas as pd\n",
    "import spacy\n",
    "from tqdm.auto import tqdm\n",
    "\n",
    "tqdm.pandas()\n",
    "nlp = spacy.load('en_core_web_sm')"
   ],
   "outputs": [],
   "execution_count": 1
  },
  {
   "cell_type": "code",
   "metadata": {
    "ExecuteTime": {
     "end_time": "2024-04-25T04:34:22.695815Z",
     "start_time": "2024-04-25T04:34:22.522147Z"
    }
   },
   "source": [
    "# Load the dataset\n",
    "df = pd.read_csv('../data/cyberbullying.csv')\n",
    "df.head()"
   ],
   "outputs": [
    {
     "data": {
      "text/plain": [
       "                                          tweet_text  cyberbullying_type\n",
       "0  In other words #katandandre, your food was cra...                   0\n",
       "1  Why is #aussietv so white? #MKR #theblock #ImA...                   0\n",
       "2  @XochitlSuckkks a classy whore? Or more red ve...                   0\n",
       "3  @Jason_Gio meh. :P  thanks for the heads up, b...                   0\n",
       "4  @RudhoeEnglish This is an ISIS account pretend...                   0"
      ],
      "text/html": [
       "<div>\n",
       "<style scoped>\n",
       "    .dataframe tbody tr th:only-of-type {\n",
       "        vertical-align: middle;\n",
       "    }\n",
       "\n",
       "    .dataframe tbody tr th {\n",
       "        vertical-align: top;\n",
       "    }\n",
       "\n",
       "    .dataframe thead th {\n",
       "        text-align: right;\n",
       "    }\n",
       "</style>\n",
       "<table border=\"1\" class=\"dataframe\">\n",
       "  <thead>\n",
       "    <tr style=\"text-align: right;\">\n",
       "      <th></th>\n",
       "      <th>tweet_text</th>\n",
       "      <th>cyberbullying_type</th>\n",
       "    </tr>\n",
       "  </thead>\n",
       "  <tbody>\n",
       "    <tr>\n",
       "      <th>0</th>\n",
       "      <td>In other words #katandandre, your food was cra...</td>\n",
       "      <td>0</td>\n",
       "    </tr>\n",
       "    <tr>\n",
       "      <th>1</th>\n",
       "      <td>Why is #aussietv so white? #MKR #theblock #ImA...</td>\n",
       "      <td>0</td>\n",
       "    </tr>\n",
       "    <tr>\n",
       "      <th>2</th>\n",
       "      <td>@XochitlSuckkks a classy whore? Or more red ve...</td>\n",
       "      <td>0</td>\n",
       "    </tr>\n",
       "    <tr>\n",
       "      <th>3</th>\n",
       "      <td>@Jason_Gio meh. :P  thanks for the heads up, b...</td>\n",
       "      <td>0</td>\n",
       "    </tr>\n",
       "    <tr>\n",
       "      <th>4</th>\n",
       "      <td>@RudhoeEnglish This is an ISIS account pretend...</td>\n",
       "      <td>0</td>\n",
       "    </tr>\n",
       "  </tbody>\n",
       "</table>\n",
       "</div>"
      ]
     },
     "execution_count": 2,
     "metadata": {},
     "output_type": "execute_result"
    }
   ],
   "execution_count": 2
  },
  {
   "metadata": {
    "ExecuteTime": {
     "end_time": "2024-04-25T04:34:22.702456Z",
     "start_time": "2024-04-25T04:34:22.696822Z"
    }
   },
   "cell_type": "code",
   "source": [
    "# Imprimir la stops words del spacy\n",
    "print('Un total de:', len(nlp.Defaults.stop_words), 'stop words.')\n",
    "print(nlp.Defaults.stop_words)\n",
    "# "
   ],
   "outputs": [
    {
     "name": "stdout",
     "output_type": "stream",
     "text": [
      "Un total de: 326 stop words.\n",
      "{'move', 'something', 'somehow', 'if', 'am', 'by', 'see', 'elsewhere', 'themselves', 'thence', 'just', 'take', 'done', 'not', '‘ve', 'who', 'further', 'unless', 'get', 'various', 'through', 'becoming', 'onto', 'will', 'must', 'even', 'can', 'please', 'an', 'after', 'do', 'during', 'hereby', 'eight', 'neither', 'she', 'call', 'top', '’d', 'besides', 'everything', 'or', 'few', 'whatever', 'already', 'could', 'anyway', 'thereby', 'quite', 'for', 'fifteen', 'became', 'behind', 'somewhere', \"n't\", 'out', 'used', 'often', 'herein', 'once', 'several', '’re', 'their', 'most', 'my', 'itself', 'been', 'put', 'two', 'give', 'therein', 'the', \"'m\", 'five', 'nevertheless', 'did', 'when', 'forty', 'such', 'was', 'a', 'nobody', '‘d', 'one', 'n‘t', 'also', 'hence', 'many', 'then', 'how', 'beforehand', 'same', 'meanwhile', 'regarding', 'about', 'which', 'made', 're', 'first', 'its', 'from', 'formerly', 'across', 'full', '‘s', 'whither', 'hereafter', 'between', 'you', 'every', 'below', 'whereafter', 'except', 'be', '’s', 'too', 'part', 'those', 'afterwards', 'side', 'why', 'next', 'twenty', 'whenever', 'becomes', 'above', 'either', 'hereupon', 'as', 'this', 'latter', 'whether', 'whence', 'seems', 'become', 'front', 'herself', 'to', 'have', 'her', '‘m', 'now', 'anyone', 'doing', 'nowhere', 'own', 'your', 'each', 'without', 'yet', 'due', 'up', 'make', \"'s\", 'within', 'so', 'until', 'here', 'amongst', 'he', 'has', 'would', 'and', 'least', 'less', 'ourselves', 'among', 'together', 'using', 'much', 'may', 'where', 'noone', 'never', 'show', 'than', 'six', 'very', 'yourself', '’m', 'beside', 'otherwise', 'ten', '’ll', 'had', 'upon', 'nor', 'well', 'only', 'thereafter', 'name', 'are', 'himself', '‘re', 'back', 'cannot', 'into', 'i', 'rather', 'keep', 'eleven', 'perhaps', 'were', 'former', 'alone', 'whereupon', 'sometime', 'another', 'seem', 'us', 'myself', 'amount', 'ca', 'some', 'n’t', 'towards', 'against', 'seemed', 'because', 'anywhere', \"'ll\", 'beyond', 'does', \"'d\", 'throughout', 'what', 'third', 'thus', 'enough', 'but', 'therefore', 'whole', 'via', 'there', 'along', 'seeming', 'all', 'four', 'whereby', 'toward', 'it', 'nothing', 'no', 'sixty', 'them', '‘ll', 'however', 'though', 'namely', 'down', 'last', 'ever', 'they', 'yourselves', 'our', 'while', 'at', 'him', 'latterly', 'say', 'fifty', 'twelve', 'anything', 'others', 'almost', 'whose', 'everyone', 'around', 'over', \"'re\", 'being', 'thereupon', 'really', 'is', 'still', 'go', 'empty', 'thru', 'both', 'hers', 'serious', 'under', 'might', 'per', 'before', 'any', 'off', 'always', 'someone', 'else', 'since', 'hundred', 'of', 'with', \"'ve\", 'in', 'none', 'other', 'mine', 'mostly', 'again', 'his', 'moreover', 'these', '’ve', 'on', 'bottom', 'nine', 'that', 'everywhere', 'indeed', 'anyhow', 'yours', 'whereas', 'me', 'we', 'three', 'ours', 'although', 'wherever', 'sometimes', 'whom', 'whoever', 'should', 'more', 'wherein'}\n"
     ]
    }
   ],
   "execution_count": 3
  },
  {
   "cell_type": "code",
   "metadata": {
    "ExecuteTime": {
     "end_time": "2024-05-02T21:27:04.294336Z",
     "start_time": "2024-05-02T21:27:03.613717Z"
    }
   },
   "source": [
    "# Pre-compilar la expresión regular fuera de la función\n",
    "# Patron sencillo para identificar URLs en un texto.\n",
    "# url_pattern = re.compile(r'https?:\\/\\/\\S+|www\\.\\S+')\n",
    "# Patron para identificar URLs, hasta mal escritas, en un texto. (https://regex101.com/r/sHFkhh/2)\n",
    "url_pattern = re.compile(\n",
    "    r\"\"\"(?:https?:\\/\\/)?(?:www\\.)?(?:[a-zA-Z0-9-]+\\.[a-zA-Z]{2,6})(?:[-a-zA-Z0-9@:%_\\+.~#?&\\/\\/=]*)\"\"\")\n",
    "# Menciones, RTs (retweets)\n",
    "clean_pattern = re.compile(r'@\\S+|([^A-Za-z \\t])|(\\w+:\\/\\/\\S+)|^rt')\n",
    "\n",
    "\n",
    "def preprocess_text(text) -> list:\n",
    "    text = text.lower()\n",
    "    text = re.sub(url_pattern, '', text)\n",
    "    text = re.sub(clean_pattern, '', text)\n",
    "\n",
    "    doc = nlp(text)\n",
    "    return [token for token in doc if not token.is_punct and not token.is_space]\n",
    "\n",
    "\n",
    "def remove_stopwords(tokens) -> list:\n",
    "    return [token for token in tokens if not token.is_stop]\n",
    "\n",
    "\n",
    "def lemmatize(tokens) -> list:\n",
    "    return [token.lemma_ for token in tokens]\n",
    "\n",
    "\n",
    "def clean_text(text) -> str:\n",
    "    tokens = preprocess_text(text)\n",
    "    filtered_tokens = remove_stopwords(tokens)\n",
    "    lemmatized_tokens = lemmatize(filtered_tokens)\n",
    "    cleaned_text = ' '.join(lemmatized_tokens)\n",
    "    return cleaned_text\n"
   ],
   "outputs": [
    {
     "ename": "NameError",
     "evalue": "name 're' is not defined",
     "output_type": "error",
     "traceback": [
      "\u001B[1;31m---------------------------------------------------------------------------\u001B[0m",
      "\u001B[1;31mNameError\u001B[0m                                 Traceback (most recent call last)",
      "Cell \u001B[1;32mIn[1], line 5\u001B[0m\n\u001B[0;32m      1\u001B[0m \u001B[38;5;66;03m# Pre-compilar la expresión regular fuera de la función\u001B[39;00m\n\u001B[0;32m      2\u001B[0m \u001B[38;5;66;03m# Patron sencillo para identificar URLs en un texto.\u001B[39;00m\n\u001B[0;32m      3\u001B[0m \u001B[38;5;66;03m# url_pattern = re.compile(r'https?:\\/\\/\\S+|www\\.\\S+')\u001B[39;00m\n\u001B[0;32m      4\u001B[0m \u001B[38;5;66;03m# Patron para identificar URLs, hasta mal escritas, en un texto. (https://regex101.com/r/sHFkhh/2)\u001B[39;00m\n\u001B[1;32m----> 5\u001B[0m url_pattern \u001B[38;5;241m=\u001B[39m re\u001B[38;5;241m.\u001B[39mcompile(\n\u001B[0;32m      6\u001B[0m     \u001B[38;5;124mr\u001B[39m\u001B[38;5;124m'\u001B[39m\u001B[38;5;124m[(http(s)?):\u001B[39m\u001B[38;5;124m\\\u001B[39m\u001B[38;5;124m/\u001B[39m\u001B[38;5;124m\\\u001B[39m\u001B[38;5;124m/(www\u001B[39m\u001B[38;5;124m\\\u001B[39m\u001B[38;5;124m.)?a-zA-Z0-9@:\u001B[39m\u001B[38;5;124m%\u001B[39m\u001B[38;5;124m._\u001B[39m\u001B[38;5;124m\\\u001B[39m\u001B[38;5;124m-\u001B[39m\u001B[38;5;124m\\\u001B[39m\u001B[38;5;124m+~#=]\u001B[39m\u001B[38;5;124m{\u001B[39m\u001B[38;5;124m2,256}\u001B[39m\u001B[38;5;124m\\\u001B[39m\u001B[38;5;124m.[a-z]\u001B[39m\u001B[38;5;124m{\u001B[39m\u001B[38;5;124m2,6}\u001B[39m\u001B[38;5;124m\\\u001B[39m\u001B[38;5;124mb([-a-zA-Z0-9@:\u001B[39m\u001B[38;5;124m%\u001B[39m\u001B[38;5;124m_\u001B[39m\u001B[38;5;124m\\\u001B[39m\u001B[38;5;124m+.~#?&\u001B[39m\u001B[38;5;124m\\\u001B[39m\u001B[38;5;124m/\u001B[39m\u001B[38;5;124m\\\u001B[39m\u001B[38;5;124m/=]*)\u001B[39m\u001B[38;5;124m'\u001B[39m)\n\u001B[0;32m      7\u001B[0m \u001B[38;5;66;03m# Menciones, RTs (retweets)\u001B[39;00m\n\u001B[0;32m      8\u001B[0m clean_pattern \u001B[38;5;241m=\u001B[39m re\u001B[38;5;241m.\u001B[39mcompile(\u001B[38;5;124mr\u001B[39m\u001B[38;5;124m'\u001B[39m\u001B[38;5;124m@\u001B[39m\u001B[38;5;124m\\\u001B[39m\u001B[38;5;124mS+|([^A-Za-z \u001B[39m\u001B[38;5;124m\\\u001B[39m\u001B[38;5;124mt])|(\u001B[39m\u001B[38;5;124m\\\u001B[39m\u001B[38;5;124mw+:\u001B[39m\u001B[38;5;124m\\\u001B[39m\u001B[38;5;124m/\u001B[39m\u001B[38;5;124m\\\u001B[39m\u001B[38;5;124m/\u001B[39m\u001B[38;5;124m\\\u001B[39m\u001B[38;5;124mS+)|^rt\u001B[39m\u001B[38;5;124m'\u001B[39m)\n",
      "\u001B[1;31mNameError\u001B[0m: name 're' is not defined"
     ]
    }
   ],
   "execution_count": 1
  },
  {
   "metadata": {},
   "cell_type": "code",
   "source": [
    "# Seleccionar algunas filas para probar la función\n",
    "df_sample = df.head(25).copy()\n",
    "df_sample['tweet_preprocessed'] = df_sample['tweet_text'].apply(clean_text)\n",
    "\n",
    "# Eliminar las filas vacías\n",
    "df_sample.dropna(inplace=True)\n",
    "df_sample = df_sample[df_sample['tweet_preprocessed'] != '']\n",
    "\n",
    "print(df_sample)"
   ],
   "outputs": [],
   "execution_count": null
  },
  {
   "metadata": {
    "ExecuteTime": {
     "end_time": "2024-04-25T05:56:36.779737Z",
     "start_time": "2024-04-25T05:50:33.705387Z"
    }
   },
   "cell_type": "code",
   "source": [
    "# Copiar el DataFrame\n",
    "df_sample = df.copy()\n",
    "\n",
    "# Aplicar la función 'normalize' a los tweets seleccionados\n",
    "df_sample['tweet_preprocessed'] = df_sample['tweet_text'].progress_apply(clean_text)\n",
    "\n",
    "# Eliminar las filas vacías\n",
    "df_sample.dropna(inplace=True)\n",
    "df_sample = df_sample[df_sample['tweet_preprocessed'] != '']\n",
    "\n",
    "# Imprimir los tweets pre-procesados\n",
    "df_sample"
   ],
   "outputs": [
    {
     "data": {
      "text/plain": [
       "  0%|          | 0/81417 [00:00<?, ?it/s]"
      ],
      "application/vnd.jupyter.widget-view+json": {
       "version_major": 2,
       "version_minor": 0,
       "model_id": "efc19075fc4047468b04b5931f0ee1d4"
      }
     },
     "metadata": {},
     "output_type": "display_data"
    },
    {
     "data": {
      "text/plain": [
       "                                              tweet_text  cyberbullying_type  \\\n",
       "0      In other words #katandandre, your food was cra...                   0   \n",
       "1      Why is #aussietv so white? #MKR #theblock #ImA...                   0   \n",
       "2      @XochitlSuckkks a classy whore? Or more red ve...                   0   \n",
       "3      @Jason_Gio meh. :P  thanks for the heads up, b...                   0   \n",
       "4      @RudhoeEnglish This is an ISIS account pretend...                   0   \n",
       "...                                                  ...                 ...   \n",
       "81412                       Happy birthday @paul_lander!                   0   \n",
       "81413  RT @MilradJalen: @raesanni I agree it’s awful ...                   0   \n",
       "81414  I was called in yesterday at the Guidance Coun...                   0   \n",
       "81415                     @Jeicky_the_cat @skwi69 Thanks                   0   \n",
       "81416  thinks she found a good group to help her refocus                   0   \n",
       "\n",
       "                                      tweet_preprocessed  \n",
       "0                 word katandandre food crapilicious mkr  \n",
       "1      aussietv white mkr theblock imacelebrityau tod...  \n",
       "2                        classy whore red velvet cupcake  \n",
       "3          meh p thank head concerned angry dude twitter  \n",
       "4      isis account pretend kurdish account like isla...  \n",
       "...                                                  ...  \n",
       "81412                                     happy birthday  \n",
       "81413  agree awful make sense regardless mistake not ...  \n",
       "81414  call yesterday guidance counselor office think...  \n",
       "81415                                              thank  \n",
       "81416                 think find good group help refocus  \n",
       "\n",
       "[81081 rows x 3 columns]"
      ],
      "text/html": [
       "<div>\n",
       "<style scoped>\n",
       "    .dataframe tbody tr th:only-of-type {\n",
       "        vertical-align: middle;\n",
       "    }\n",
       "\n",
       "    .dataframe tbody tr th {\n",
       "        vertical-align: top;\n",
       "    }\n",
       "\n",
       "    .dataframe thead th {\n",
       "        text-align: right;\n",
       "    }\n",
       "</style>\n",
       "<table border=\"1\" class=\"dataframe\">\n",
       "  <thead>\n",
       "    <tr style=\"text-align: right;\">\n",
       "      <th></th>\n",
       "      <th>tweet_text</th>\n",
       "      <th>cyberbullying_type</th>\n",
       "      <th>tweet_preprocessed</th>\n",
       "    </tr>\n",
       "  </thead>\n",
       "  <tbody>\n",
       "    <tr>\n",
       "      <th>0</th>\n",
       "      <td>In other words #katandandre, your food was cra...</td>\n",
       "      <td>0</td>\n",
       "      <td>word katandandre food crapilicious mkr</td>\n",
       "    </tr>\n",
       "    <tr>\n",
       "      <th>1</th>\n",
       "      <td>Why is #aussietv so white? #MKR #theblock #ImA...</td>\n",
       "      <td>0</td>\n",
       "      <td>aussietv white mkr theblock imacelebrityau tod...</td>\n",
       "    </tr>\n",
       "    <tr>\n",
       "      <th>2</th>\n",
       "      <td>@XochitlSuckkks a classy whore? Or more red ve...</td>\n",
       "      <td>0</td>\n",
       "      <td>classy whore red velvet cupcake</td>\n",
       "    </tr>\n",
       "    <tr>\n",
       "      <th>3</th>\n",
       "      <td>@Jason_Gio meh. :P  thanks for the heads up, b...</td>\n",
       "      <td>0</td>\n",
       "      <td>meh p thank head concerned angry dude twitter</td>\n",
       "    </tr>\n",
       "    <tr>\n",
       "      <th>4</th>\n",
       "      <td>@RudhoeEnglish This is an ISIS account pretend...</td>\n",
       "      <td>0</td>\n",
       "      <td>isis account pretend kurdish account like isla...</td>\n",
       "    </tr>\n",
       "    <tr>\n",
       "      <th>...</th>\n",
       "      <td>...</td>\n",
       "      <td>...</td>\n",
       "      <td>...</td>\n",
       "    </tr>\n",
       "    <tr>\n",
       "      <th>81412</th>\n",
       "      <td>Happy birthday @paul_lander!</td>\n",
       "      <td>0</td>\n",
       "      <td>happy birthday</td>\n",
       "    </tr>\n",
       "    <tr>\n",
       "      <th>81413</th>\n",
       "      <td>RT @MilradJalen: @raesanni I agree it’s awful ...</td>\n",
       "      <td>0</td>\n",
       "      <td>agree awful make sense regardless mistake not ...</td>\n",
       "    </tr>\n",
       "    <tr>\n",
       "      <th>81414</th>\n",
       "      <td>I was called in yesterday at the Guidance Coun...</td>\n",
       "      <td>0</td>\n",
       "      <td>call yesterday guidance counselor office think...</td>\n",
       "    </tr>\n",
       "    <tr>\n",
       "      <th>81415</th>\n",
       "      <td>@Jeicky_the_cat @skwi69 Thanks</td>\n",
       "      <td>0</td>\n",
       "      <td>thank</td>\n",
       "    </tr>\n",
       "    <tr>\n",
       "      <th>81416</th>\n",
       "      <td>thinks she found a good group to help her refocus</td>\n",
       "      <td>0</td>\n",
       "      <td>think find good group help refocus</td>\n",
       "    </tr>\n",
       "  </tbody>\n",
       "</table>\n",
       "<p>81081 rows × 3 columns</p>\n",
       "</div>"
      ]
     },
     "execution_count": 54,
     "metadata": {},
     "output_type": "execute_result"
    }
   ],
   "execution_count": 54
  },
  {
   "metadata": {
    "ExecuteTime": {
     "end_time": "2024-04-25T05:56:37.079050Z",
     "start_time": "2024-04-25T05:56:36.780743Z"
    }
   },
   "cell_type": "code",
   "source": [
    "df_sample.to_csv('../data/cyberbullying_preprocessed.csv', index=False)\n",
    "df_sample\n"
   ],
   "outputs": [
    {
     "data": {
      "text/plain": [
       "                                              tweet_text  cyberbullying_type  \\\n",
       "0      In other words #katandandre, your food was cra...                   0   \n",
       "1      Why is #aussietv so white? #MKR #theblock #ImA...                   0   \n",
       "2      @XochitlSuckkks a classy whore? Or more red ve...                   0   \n",
       "3      @Jason_Gio meh. :P  thanks for the heads up, b...                   0   \n",
       "4      @RudhoeEnglish This is an ISIS account pretend...                   0   \n",
       "...                                                  ...                 ...   \n",
       "81412                       Happy birthday @paul_lander!                   0   \n",
       "81413  RT @MilradJalen: @raesanni I agree it’s awful ...                   0   \n",
       "81414  I was called in yesterday at the Guidance Coun...                   0   \n",
       "81415                     @Jeicky_the_cat @skwi69 Thanks                   0   \n",
       "81416  thinks she found a good group to help her refocus                   0   \n",
       "\n",
       "                                      tweet_preprocessed  \n",
       "0                 word katandandre food crapilicious mkr  \n",
       "1      aussietv white mkr theblock imacelebrityau tod...  \n",
       "2                        classy whore red velvet cupcake  \n",
       "3          meh p thank head concerned angry dude twitter  \n",
       "4      isis account pretend kurdish account like isla...  \n",
       "...                                                  ...  \n",
       "81412                                     happy birthday  \n",
       "81413  agree awful make sense regardless mistake not ...  \n",
       "81414  call yesterday guidance counselor office think...  \n",
       "81415                                              thank  \n",
       "81416                 think find good group help refocus  \n",
       "\n",
       "[81081 rows x 3 columns]"
      ],
      "text/html": [
       "<div>\n",
       "<style scoped>\n",
       "    .dataframe tbody tr th:only-of-type {\n",
       "        vertical-align: middle;\n",
       "    }\n",
       "\n",
       "    .dataframe tbody tr th {\n",
       "        vertical-align: top;\n",
       "    }\n",
       "\n",
       "    .dataframe thead th {\n",
       "        text-align: right;\n",
       "    }\n",
       "</style>\n",
       "<table border=\"1\" class=\"dataframe\">\n",
       "  <thead>\n",
       "    <tr style=\"text-align: right;\">\n",
       "      <th></th>\n",
       "      <th>tweet_text</th>\n",
       "      <th>cyberbullying_type</th>\n",
       "      <th>tweet_preprocessed</th>\n",
       "    </tr>\n",
       "  </thead>\n",
       "  <tbody>\n",
       "    <tr>\n",
       "      <th>0</th>\n",
       "      <td>In other words #katandandre, your food was cra...</td>\n",
       "      <td>0</td>\n",
       "      <td>word katandandre food crapilicious mkr</td>\n",
       "    </tr>\n",
       "    <tr>\n",
       "      <th>1</th>\n",
       "      <td>Why is #aussietv so white? #MKR #theblock #ImA...</td>\n",
       "      <td>0</td>\n",
       "      <td>aussietv white mkr theblock imacelebrityau tod...</td>\n",
       "    </tr>\n",
       "    <tr>\n",
       "      <th>2</th>\n",
       "      <td>@XochitlSuckkks a classy whore? Or more red ve...</td>\n",
       "      <td>0</td>\n",
       "      <td>classy whore red velvet cupcake</td>\n",
       "    </tr>\n",
       "    <tr>\n",
       "      <th>3</th>\n",
       "      <td>@Jason_Gio meh. :P  thanks for the heads up, b...</td>\n",
       "      <td>0</td>\n",
       "      <td>meh p thank head concerned angry dude twitter</td>\n",
       "    </tr>\n",
       "    <tr>\n",
       "      <th>4</th>\n",
       "      <td>@RudhoeEnglish This is an ISIS account pretend...</td>\n",
       "      <td>0</td>\n",
       "      <td>isis account pretend kurdish account like isla...</td>\n",
       "    </tr>\n",
       "    <tr>\n",
       "      <th>...</th>\n",
       "      <td>...</td>\n",
       "      <td>...</td>\n",
       "      <td>...</td>\n",
       "    </tr>\n",
       "    <tr>\n",
       "      <th>81412</th>\n",
       "      <td>Happy birthday @paul_lander!</td>\n",
       "      <td>0</td>\n",
       "      <td>happy birthday</td>\n",
       "    </tr>\n",
       "    <tr>\n",
       "      <th>81413</th>\n",
       "      <td>RT @MilradJalen: @raesanni I agree it’s awful ...</td>\n",
       "      <td>0</td>\n",
       "      <td>agree awful make sense regardless mistake not ...</td>\n",
       "    </tr>\n",
       "    <tr>\n",
       "      <th>81414</th>\n",
       "      <td>I was called in yesterday at the Guidance Coun...</td>\n",
       "      <td>0</td>\n",
       "      <td>call yesterday guidance counselor office think...</td>\n",
       "    </tr>\n",
       "    <tr>\n",
       "      <th>81415</th>\n",
       "      <td>@Jeicky_the_cat @skwi69 Thanks</td>\n",
       "      <td>0</td>\n",
       "      <td>thank</td>\n",
       "    </tr>\n",
       "    <tr>\n",
       "      <th>81416</th>\n",
       "      <td>thinks she found a good group to help her refocus</td>\n",
       "      <td>0</td>\n",
       "      <td>think find good group help refocus</td>\n",
       "    </tr>\n",
       "  </tbody>\n",
       "</table>\n",
       "<p>81081 rows × 3 columns</p>\n",
       "</div>"
      ]
     },
     "execution_count": 55,
     "metadata": {},
     "output_type": "execute_result"
    }
   ],
   "execution_count": 55
  }
 ],
 "metadata": {
  "kernelspec": {
   "display_name": "base",
   "language": "python",
   "name": "python3"
  },
  "language_info": {
   "codemirror_mode": {
    "name": "ipython",
    "version": 3
   },
   "file_extension": ".py",
   "mimetype": "text/x-python",
   "name": "python",
   "nbconvert_exporter": "python",
   "pygments_lexer": "ipython3",
   "version": "3.11.7"
  }
 },
 "nbformat": 4,
 "nbformat_minor": 2
}
